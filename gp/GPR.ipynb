{
 "cells": [
  {
   "cell_type": "markdown",
   "metadata": {},
   "source": [
    "# 1. 回归问题\n",
    "假设为有 N 个数据的数据集：$(x_1, y_1), (x_2, y_2), \\cdots, (x_N, y_N)$，记为 $\\mathcal{D} = \\{X, \\mathbf{y}\\}$。这里 $x_i$ 是列向量（$n$ 元变量），$y_i$ 是标量。我们的目标是，如何根据这些已知的数据 ，对于任意未知的 $x$，估计其相应的目标值 $y$。\n",
    "\n",
    "## 1.1 线性回归模型\n",
    "\n",
    "最常用的回归方法是线性回归，即假设输入和输出满足线性关系：\n",
    "$$\n",
    "f(x) = x^T  w\n",
    "$$\n",
    "\n",
    "$$\n",
    "y = f(x) + \\epsilon\n",
    "$$\n",
    "\n",
    "\n",
    "\n",
    "其中， $w$ 是模型的参数，$\\epsilon \\sim \\mathcal{N}(0, \\sigma^2)$ 是观测噪声。\n",
    "\n",
    "在上述模型中，模型就由其参数唯一决定，不同的参数 $w$ 对应一个具体的线性模型。模型学习的过程即是利用训练数据（已知数据）估计参数 $w$ 的过程。\n",
    "\n",
    "## 1.2 最大似然估计\n",
    "\n",
    "由于 $\\epsilon$ 服从高斯分布，容易计算 $y$ 的似然：\n",
    "\n",
    "$$\n",
    "p(y|X, w) = \\prod_{i=1}^n p(y_i | x_i, w) = \\prod_{i=1}^n \\frac{1}{\\sqrt{2\\pi} \\sigma} \\exp(-\\frac{(y_i - x_i^T w)^2}{2\\sigma^2}) = \\mathcal{N}(X^Tw, \\sigma^2I)\n",
    "$$\n",
    "\n",
    "$$\n",
    "\\ln p(y|X, w) = -\\frac{n}{2}\\ln(2\\pi\\sigma^2) - \\frac{1}{2\\sigma^2}|y - X^Tw|^2\n",
    "$$\n",
    "\n",
    "通过**最大化对数似然**，可以估计 $w$ 的值，这是关于 $w$ 是二次优化问题，存在唯一的全局最优解，并可以解析地求得：\n",
    "\n",
    "$$\n",
    "\\hat w = (XX^T)^{-1}Xy\n",
    "$$\n",
    "\n",
    "除了直接求解，实际中，可以会使用随机梯度下降法等进行优化。\n",
    "\n",
    "对于任意输入 $x_*$，可以预测输出 $y_* = x_*^T \\hat w $"
   ]
  },
  {
   "cell_type": "code",
   "execution_count": 1,
   "metadata": {
    "collapsed": false
   },
   "outputs": [
    {
     "data": {
      "text/plain": [
       "[<matplotlib.lines.Line2D at 0x6891940>]"
      ]
     },
     "execution_count": 1,
     "metadata": {},
     "output_type": "execute_result"
    },
    {
     "data": {
      "image/png": "[encoded data removed]",
      "text/plain": [
       "<matplotlib.figure.Figure at 0x6891c18>"
      ]
     },
     "metadata": {},
     "output_type": "display_data"
    }
   ],
   "source": [
    "from __future__ import print_function\n",
    "import numpy as np\n",
    "import matplotlib\n",
    "import matplotlib.pyplot as plt\n",
    "%matplotlib inline\n",
    "\n",
    "import numpy as np\n",
    "np.random.seed(1111)\n",
    "\n",
    "N = 10  # number of samples\n",
    "n = 1  # 1 dimension for visualization\n",
    "\n",
    "# synthesized data\n",
    "sigma_noise = 1\n",
    "X = (np.random.rand(n, N) - 0.5) * 30\n",
    "w = np.random.randn(n)\n",
    "y = np.matmul(w, X) + np.random.randn(N) * sigma_noise\n",
    "\n",
    "# estimated parameters\n",
    "w_hat = np.matmul(np.linalg.inv(np.dot(X, X.T)), np.dot(X, y))\n",
    "y_hat = np.matmul(w_hat, X)\n",
    "\n",
    "plt.scatter(X, y, c='r', s=30, marker='^')\n",
    "plt.scatter(X, y_hat, c='g', s=30, marker='o')\n",
    "x_start, x_end = -15, 15\n",
    "y_start, y_end = x_start * w, x_end * w\n",
    "\n",
    "plt.plot([x_start, x_end], [y_start, y_end])"
   ]
  },
  {
   "cell_type": "markdown",
   "metadata": {},
   "source": [
    "## 1.3 最大后验概率估计\n",
    "\n",
    "最大似然估计只能给出 $w$ 的点估计，对于模型的不确定性并不能告诉我们太多。下面我们从贝叶斯的角度处理参数的估计。\n",
    "\n",
    "假设 $w \\sim \\mathcal{N}(0, \\Sigma_p)$，即 $w$ 先验是高斯的。\n",
    "$w$ 的后验概率可以表达为：\n",
    "$$\n",
    "p(w|y, X) = \\frac{p(y|X, w)p(w)}{p(y|X)} \\propto p(y|X, w)p(w)\n",
    "$$\n",
    "其中，$p(y|X) = \\int p(y|X, w)p(w)dw$\n",
    "\n",
    "\n",
    "经过推导可以得到：\n",
    "$$\n",
    "p(w|X, y) \\sim \\mathcal{N}(\\bar w, A^{-1})\n",
    "$$\n",
    "\n",
    "其中，$A = \\frac{1}{\\sigma^2}XX^T + \\Sigma_p^{-1}$，$\\bar w = \\frac{1}{\\sigma^2} A^{-1}Xy$。\n",
    "\n",
    "对于 $x_*$，$f_*$ 的概率分布：\n",
    "$$\n",
    "p(f_*|x_*,X,y) = \\int p(f|x_*,w)p(w|X,y) dw = \\mathcal{N}(\\frac{1}{\\sigma^2} x_*^T A^{-1}Xy, x_*^TA^{-1}x_*)\n",
    "$$\n",
    "\n",
    "根据上式，我们不但可以估计输入 $x_*$ 的预测值（期望 $\\frac{1}{\\sigma^2} x_*^T A^{-1}Xy$），还可以给出预测的不确定性（方差 $x_*^TA^{-1}x_*$）。\n",
    "\n",
    "\n"
   ]
  },
  {
   "cell_type": "code",
   "execution_count": 2,
   "metadata": {
    "collapsed": false
   },
   "outputs": [
    {
     "data": {
      "text/plain": [
       "[<matplotlib.lines.Line2D at 0x7ce08d0>]"
      ]
     },
     "execution_count": 2,
     "metadata": {},
     "output_type": "execute_result"
    },
    {
     "data": {
      "image/png": "[encoded data removed]",
      "text/plain": [
       "<matplotlib.figure.Figure at 0x6a2e630>"
      ]
     },
     "metadata": {},
     "output_type": "display_data"
    }
   ],
   "source": [
    "sigma_w = 1\n",
    "Sigma_p = np.eye(n) * sigma_w ** 2\n",
    "A = 1. / sigma_noise ** 2 * np.dot(X, X.T) + np.linalg.inv(Sigma_p)\n",
    "A_inv = np.linalg.inv(A)\n",
    "w_mean = np.matmul(np.dot(A_inv, X), y) / sigma_noise ** 2\n",
    "y_mean = np.matmul(w_mean, X)\n",
    "y_var = np.diag(np.matmul(np.matmul(X.T, A_inv), X))\n",
    "y_up = y_mean + 2 * y_var\n",
    "y_down = y_mean - 2 * y_var\n",
    "\n",
    "x_axis = X.ravel()\n",
    "idx = np.argsort(x_axis)\n",
    "x_axis_sorted = x_axis[idx]\n",
    "y_up = y_up[idx]\n",
    "y_down = y_down[idx]\n",
    "\n",
    "plt.scatter(x_axis, y, c='r', s=30, marker='^')\n",
    "plt.scatter(x_axis, y_mean, c='g', s=30, marker='o')\n",
    "\n",
    "plt.plot(x_axis_sorted, y_up)\n",
    "plt.plot(x_axis_sorted, y_down)"
   ]
  },
  {
   "cell_type": "markdown",
   "metadata": {},
   "source": [
    "## 1.4 基于核函数（kernel）的对偶表示\n",
    "\n",
    "基于以上讨论，对于给定数据，我们可以求得 $A^{-1}$ （$n \\times n$ 矩阵）以及 $\\hat w = \\frac{1}{\\sigma^2} A^{-1}Xy$（$n$ 维向量）。无论数据量的大小，参数量是固定的。\n",
    "\n",
    "还可以从另一个角度来解释上式。\n",
    "记 $\\alpha = \\frac{1}{\\sigma^2} x_*^T A^{-1}X$，则 $\\bar f_* = \\alpha \\cdot y$，即预测值是已知数据的线性加权。\n",
    "下面将看到，从这个解释出发，我们可以引入“核”。\n",
    "\n",
    "\n",
    "记 $k(x, x^\\prime) = x^T\\Sigma_px^\\prime$（称为**核函数或协方差函数**），$K = X^T\\Sigma_pX = k(X, X)$，$k_* = k(x_*,X)$，$k_{**} = k(x_*, x_*)$，则：\n",
    "$$\n",
    "p(f_*|x_*,X,y) \\sim \\mathcal{N}(k_*(K + \\sigma^2I)^{-1} y, k_{**} - k_* (K + \\sigma^2 I)^{-1}k_*^T)\n",
    "$$\n",
    "\n",
    "$y$ 的加权系数为 $\\alpha = k_*(K + \\sigma^2I)^{-1}$，预测结果的协方差矩阵为 $k_{**} - k_* (K + \\sigma^2 I)^{-1}k_*^T$。"
   ]
  },
  {
   "cell_type": "code",
   "execution_count": 3,
   "metadata": {
    "collapsed": false
   },
   "outputs": [
    {
     "data": {
      "text/plain": [
       "[<matplotlib.lines.Line2D at 0x7f49b70>]"
      ]
     },
     "execution_count": 3,
     "metadata": {},
     "output_type": "execute_result"
    },
    {
     "data": {
      "image/png": "[encoded data removed]",
      "text/plain": [
       "<matplotlib.figure.Figure at 0x7c694e0>"
      ]
     },
     "metadata": {},
     "output_type": "display_data"
    }
   ],
   "source": [
    "def kernel(x, x_p, Sigma):\n",
    "    return np.matmul(np.matmul(x.T, Sigma), x_p)\n",
    "\n",
    "K = kernel(X, X, Sigma_p)\n",
    "x_star = X # np.random.rand(n, 10) * 30\n",
    "k_star = kernel(x_star, X, Sigma_p)\n",
    "k_stars = kernel(x_star, x_star, Sigma_p)\n",
    "\n",
    "alpha = np.matmul(k_star, np.linalg.inv(K + np.eye(N) * sigma_noise ** 2))\n",
    "y_star = np.matmul(alpha, y)\n",
    "\n",
    "plt.scatter(X, y, c='r', s=30, marker='^')\n",
    "plt.scatter(x_star, y_star, c='g', s=30, marker='o')\n",
    "plt.scatter(X, y_mean, c='g', s=30, marker='*')\n",
    "\n",
    "y_var = k_stars - np.matmul(np.matmul(k_star, np.linalg.inv(K + np.eye(N) * sigma_noise ** 2)), k_star.T)\n",
    "y_var = np.diag(y_var)\n",
    "y_up = y_star + 2 * y_var\n",
    "y_down = y_star - 2 * y_var\n",
    "\n",
    "x_axis = X.ravel()\n",
    "idx = np.argsort(x_axis)\n",
    "x_axis = x_axis[idx]\n",
    "y_up = y_up[idx]\n",
    "y_down = y_down[idx]\n",
    "\n",
    "plt.plot(x_axis, y_up)\n",
    "plt.plot(x_axis, y_down)"
   ]
  },
  {
   "cell_type": "markdown",
   "metadata": {},
   "source": [
    "上式中，只涉及输入空间中的核函数运算。"
   ]
  },
  {
   "cell_type": "markdown",
   "metadata": {},
   "source": [
    "## 1.3 特征空间映射\n",
    "\n",
    "线性模型的建模能力有限，一旦实际的数据不满足线性关系，模型的预测精确可能会很差。\n",
    "通常可以将输入通过非线性变换，映射到更高维度的特征空间，在新的特征空间，可能能用线性模型较好的表示：\n",
    "$$\n",
    "\\varPhi: x \\to x^\\prime, \\ \\ x \\in \\mathbb{R}^m, x^\\prime \\in \\mathbb{R}^n \n",
    "$$\n",
    "$$\n",
    "y = \\varPhi(x)^T w\n",
    "$$\n",
    "\n",
    "![](https://images0.cnblogs.com/blog/486315/201501/112307155463265.png)\n",
    "**图？. 非线性问题映射到高维特征空间【[src](https://images0.cnblogs.com/blog/486315/201501/112307155463265.png)】**\n",
    "\n",
    "\n",
    "例如，令 $\\varPhi(x) = x + x^2$，则输入输出的关系可以建模为： $y = a \\cdot x^2 + b \\cdot x$。此时， $x$ 与 $y$ 现在是二次关系，模型更加灵活。\n",
    "\n",
    "\n",
    "上述模型相对于待估计的参数依然是线性，因此依然是一个线性回归问题。利用上面的结果，如果定义 $k(x, x^\\prime) = \\varPhi(x)^T\\Sigma_p\\varPhi(x^\\prime)$ 我们依然有：\n",
    "$$\n",
    "p(f_*|x_*,X,y) \\sim \\mathcal{N}(k_*(K + \\sigma^2I)^{-1} y, k_{**} - k_* (K + \\sigma^2 I)^{-1}k_*^T)\n",
    "$$\n",
    "\n",
    "可以看到，如果特征空间的内积可以容易的在输入空间计算（即核函数定义在输入空间，但其描述了特征空间上的内积操作），预测与特征空间的维度无关（可能是无穷维）。\n",
    "反过来，对于满足一定条件的核函数，都对应了某个特征空间（可能是无限维）上的线性回归。"
   ]
  },
  {
   "cell_type": "markdown",
   "metadata": {},
   "source": [
    "# 2. 高斯过程回归\n",
    "\n",
    "\n",
    "## 2.1 直观解释\n",
    "\n",
    "\n",
    "高斯过程回归的一个典型的算法，定义核函数如下：\n",
    "\n",
    "$$\n",
    "k(x, x^\\prime) = \\beta \\cdot \\exp(-\\frac{(x - x^\\prime)^2}{2\\mathcal{l}^2})\n",
    "$$\n",
    "\n",
    "平方指数核，又称径向基函数（RBF）。使用这个核，替代1.4的内积核函数，我们便得到一种高斯回归。\n",
    "并不直接涉及线性模型的参数，但我们有几个超参数要确认。\n",
    "\n",
    "$\\alpha = k_*(K + \\sigma^2I)^{-1}$ 中 $(K + \\sigma^2I)^{-1}$ 是定值（训练数据给定），我们观察 $k_*$。\n",
    "$k_* = k(x_*, X) = (k(x_*, x_1),\\dots, k(x_*, x_N))$ 显然，已知点距目标点 $x_*$ 越近，相应输出 $y$ 对预测值的权重越大。\n",
    "\n",
    "直观上，相似（按某种准则，e.g. 欧式距离）的点的输入应该也相似。\n",
    "\n",
    "对于任意 $x_*$\n",
    "$$\n",
    "y_* = \\sum_{i=1}^N w_i \\cdot y_i\n",
    "$$\n",
    "$$\n",
    "w_i = \\mathcal{S}(x_i, x_*)\n",
    "$$\n",
    "\n",
    "预测值由所有已知点估计（具体地，即加权求和）。权重则取决于目标点与已知点的“相似程度“或“相关程度”。\n",
    "这种直观，我们对问题增加了”平滑性“的先验。高斯过程回归是再作**插值**。\n",
    "\n",
    "未知点可以通过已经点的线性加权得到 -> 相邻点的相关性高，权重大（平滑性假设）\n",
    "\n",
    "如何定义相邻？怎样刻画相关性？\n",
    "\n",
    "上面我们定义了基于内积的核函数，我们可以使用其他的核函数。\n",
    "\n"
   ]
  },
  {
   "cell_type": "markdown",
   "metadata": {},
   "source": [
    "## 2.2 高斯过程\n",
    "\n",
    "给定高斯过程和已知数据点，对于任意未知点，可以求得其与已知点的相关性，利用相关性对已知点的输出进行加权，得到未知点的估计。\n",
    "下面将会看到，高斯过程回归还能同时给出估计的方差，以度量不确定性。\n",
    "\n",
    "\n",
    "\n",
    "## 2.3 形式化\n",
    "\n",
    "高斯过程 -> 输出之间的相关性由输入空间决定\n",
    "协方差函数唯一确定一个高斯过程\n",
    "协方差的选择决定不同的模型，反映了模型的先验知识\n",
    "\n",
    "联合分布是高斯，但没有指定协方差是怎样的\n",
    "\n",
    "1. 欧式距离近的点，相关性高。这符合我们的直觉\n",
    "2. 平移不变性。\n",
    "3. 正交变换不变性。\n",
    "\n",
    "高斯过程是一种特殊的随机过程，任意有限点的联合概率分布服从高斯分布。高斯过程可以理解为多元高斯分布的极限情况。\n",
    "\n",
    "一个高斯过程完全由它的均值函数（$m(x)$）和协方差函数（$k(x, x^\\prime)$）决宝，分别定义如下：\n",
    "$$\n",
    "m(x) = \\mathbb{E}[f(x)]\n",
    "$$\n",
    "$$\n",
    "k(x, x^\\prime) = \\mathbb{E}[(f(x)-m(x))(f(x^\\prime)-m(x^\\prime))]\n",
    "$$\n",
    "\n",
    "高斯过程可以表示为：\n",
    "$$\n",
    "f(x) \\sim \\mathcal{GP}(m(x), k(x, x^\\prime))\n",
    "$$\n",
    "\n",
    "## 2.4 核函数\n",
    "\n",
    "核函数的选择是高斯过程的关键。\n",
    "核函数对应关一个特征空间的内积操作，显然，并不是任意函数都对应一个这样的特征空间。一般我们并不关心具体的特征空间，而是直接处理核函数。\n",
    "\n",
    "满足如下要求的函数，是合法的核函数，对应了特征空间的内积（可能是无穷维）：\n",
    "1. 1\n",
    "2. 1\n",
    "3. 2\n",
    "\n",
    "由已知核函数，可以通过如下运算，得到新的核函数：\n",
    "1. 1\n",
    "2. 1\n",
    "3. 1\n",
    "\n",
    "上面介绍了RBF\n",
    "squared exponetial (RBF, Gaussian)\n",
    "\n",
    "在高斯过程中，核函数又称为协方差函数。\n",
    "\n",
    "最大似然，估计超参数"
   ]
  },
  {
   "cell_type": "markdown",
   "metadata": {
    "collapsed": true
   },
   "source": [
    "# 小结\n",
    "\n",
    "1. 高斯过程回归可以看作是线性回归的基于核技术（kernel tricks）的推广。在高维（无穷维）上的线性回归，强大的建模能力。特征空间的选择转到选择核函数。\n",
    "2. 高斯过程是一种特殊的插值方法，高斯假设。可解释性强\n",
    "3. 高斯过程是一个概率模型，在给出估计的同时，给出不确定性\n",
    "\n",
    "\n",
    "2. 高斯过程是非参数模型\n",
    " 1. 保存所有数据点\n",
    " 2. 输入维度本身就较高的情况下，lose efficiency。\n"
   ]
  }
 ],
 "metadata": {
  "anaconda-cloud": {},
  "kernelspec": {
   "display_name": "Python [Root]",
   "language": "python",
   "name": "Python [Root]"
  },
  "language_info": {
   "codemirror_mode": {
    "name": "ipython",
    "version": 2
   },
   "file_extension": ".py",
   "mimetype": "text/x-python",
   "name": "python",
   "nbconvert_exporter": "python",
   "pygments_lexer": "ipython2",
   "version": "2.7.12"
  }
 },
 "nbformat": 4,
 "nbformat_minor": 0
}
