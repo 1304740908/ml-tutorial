{
 "cells": [
  {
   "cell_type": "code",
   "execution_count": 1,
   "metadata": {
    "collapsed": true
   },
   "outputs": [],
   "source": [
    "import numpy as np\n",
    "import matplotlib\n",
    "import matplotlib.pyplot as plt\n",
    "%matplotlib inline"
   ]
  },
  {
   "cell_type": "markdown",
   "metadata": {},
   "source": [
    "# 1. 分布的形式化\n",
    "\n",
    "## 物理意义\n",
    "\n",
    "[Gumbel](https://en.wikipedia.org/wiki/Gumbel_distribution) 分布是一种极值型分布。举例而言，假设每次测量心率值为一个随机变量（服从某种[指数族分布](https://en.wikipedia.org/wiki/Exponential_family)，如正态分布），每天测量10次心率并取最大的一个心率值作为当天的心率测量值。显然，每天纪录的心率值也是一个随机变量，并且它的概率分布即为 Gumbel 分布。\n",
    "\n",
    "\n",
    "## 概率密度函数（PDF）\n",
    "\n",
    "Gumbel 分布的 PDF 如下：\n",
    "\n",
    "$$f(x;\\mu,\\beta) = e^{-z-e^{-z}},\\ z= \\frac{x - \\mu}{\\beta}$$\n",
    "\n",
    "公式中，$\\mu$ 是位置系数（Gumbel 分布的众数是 $\\mu$），$\\beta$ 是尺度系数（Gumbel 分布的方差是 $\\frac{\\pi^2}{6}\\beta^2$）。\n",
    "\n",
    "![PDF](https://upload.wikimedia.org/wikipedia/commons/thumb/3/32/Gumbel-Density.svg/488px-Gumbel-Density.svg.png)\n",
    "**Gumble PDF 示例图【[src](https://en.wikipedia.org/wiki/Gumbel_distribution)】**\n",
    "\n"
   ]
  },
  {
   "cell_type": "code",
   "execution_count": 2,
   "metadata": {
    "collapsed": false
   },
   "outputs": [
    {
     "name": "stdout",
     "output_type": "stream",
     "text": [
      "0.183939720586\n"
     ]
    }
   ],
   "source": [
    "def gumbel_pdf(x, mu=0, beta=1):\n",
    "    z = (x - mu) / beta\n",
    "    return np.exp(-z - np.exp(-z)) / beta\n",
    "\n",
    "print(gumbel_pdf(0.5, 0.5, 2))"
   ]
  },
  {
   "cell_type": "markdown",
   "metadata": {},
   "source": [
    "## 累计密度函数（CDF）\n",
    "相应的，gumbel 分布的 CDF 的公式如下：\n",
    "\n",
    "$$F(z;\\mu,\\beta) = e^{-e^{-(x-\\mu)/\\beta}}$$\n",
    "\n"
   ]
  },
  {
   "cell_type": "code",
   "execution_count": 3,
   "metadata": {
    "collapsed": false
   },
   "outputs": [
    {
     "name": "stdout",
     "output_type": "stream",
     "text": [
      "0.899965162661\n"
     ]
    }
   ],
   "source": [
    "def gumbel_cdf(x, mu=0, beta=1):\n",
    "    z = (x - mu) / beta\n",
    "    return np.exp(-np.exp(-z))\n",
    "    \n",
    "print(gumbel_cdf(5, 0.5, 2))    "
   ]
  },
  {
   "cell_type": "markdown",
   "metadata": {},
   "source": [
    "## CDF 的反函数\n",
    "根据 CDF 容易得到其反函数：\n",
    "\n",
    "$$F^{-1}(y;\\mu,\\beta) = \\mu - \\beta \\ln(-\\ln(y))$$\n",
    "\n",
    "我们可以利用反函数法和生成服从 Gumbel 分布的随机数。\n"
   ]
  },
  {
   "cell_type": "code",
   "execution_count": 4,
   "metadata": {
    "collapsed": false
   },
   "outputs": [
    {
     "name": "stdout",
     "output_type": "stream",
     "text": [
      "5.0\n",
      "[[ 2.26084029  1.69630763 -0.71364075]\n",
      " [ 1.1703834   1.65582117  2.7283681 ]]\n"
     ]
    }
   ],
   "source": [
    "def inv_gumbel_cdf(y, mu=0, beta=1, eps=1e-20):\n",
    "    return mu - beta * np.log(-np.log(y + eps))\n",
    "\n",
    "print(inv_gumbel_cdf(gumbel_cdf(5, 0.5, 2), 0.5, 2))\n",
    "\n",
    "def sample_gumbel(shape):\n",
    "    p = np.random.random(shape)\n",
    "    return inv_gumbel_cdf(p)\n",
    "\n",
    "print(sample_gumbel([2,3]))"
   ]
  },
  {
   "cell_type": "markdown",
   "metadata": {},
   "source": [
    "# 2. Gumbel-Max\n",
    "\n",
    "Gumbel 随机数可以用来对多项分布进行采样。\n",
    "\n",
    "## 2.1 基于 softmax 的采样\n",
    "\n",
    "首先来看常规的采样方法。\n",
    "\n",
    "对于 $logits = (x_1, \\dots, x_K)$，首先利用 softmax 运算得到规一化的概率分布（多项分布）。\n",
    "\n",
    "$$\\pi_k = \\frac{exp\\{x_k\\}}{\\sum_{k\\prime=1}^{K} exp\\{x_{k\\prime}\\}}$$\n",
    "\n",
    "然后，利用轮盘赌的方式采样。下面的代码，直接使用 numpy 的 [choice](https://docs.scipy.org/doc/numpy/reference/generated/numpy.random.choice.html) 函数实现。\n",
    "\n"
   ]
  },
  {
   "cell_type": "code",
   "execution_count": 5,
   "metadata": {
    "collapsed": false
   },
   "outputs": [],
   "source": [
    "def softmax(logits):\n",
    "    max_value = np.max(logits)\n",
    "    exp = np.exp(logits - max_value)\n",
    "    exp_sum = np.sum(exp)\n",
    "    dist = exp / exp_sum\n",
    "    return dist\n",
    "\n",
    "def roulette(p):\n",
    "    p = np.asarray(p)\n",
    "    cdf = p.cumsum()\n",
    "    r = np.random.random()\n",
    "    for i in range(len(cdf)):\n",
    "        if r <= cdf[i]: break\n",
    "    return i\n",
    "\n",
    "def sample_with_softmax(logits, size):\n",
    "    '''\n",
    "    pros = softmax(logits)\n",
    "\n",
    "    ret = np.empty(np.product(size)).astype('int')\n",
    "    for i in range(len(ret)):\n",
    "        ret[i] = roulette(pros)\n",
    "        \n",
    "    return ret.reshape(size)\n",
    "    '''\n",
    "    \n",
    "    pros = softmax(logits)\n",
    "    return np.random.choice(len(logits), size, p=pros)"
   ]
  },
  {
   "cell_type": "markdown",
   "metadata": {},
   "source": [
    "## 2.2 基于 gumbel 的采样（gumbel-max）\n",
    "对于某组 logits，生成相同数量的 gumbel 随机数，并加到 logits 上。 然后选择数值最大的元素的编号作为采样值。\n",
    "示例代码如下："
   ]
  },
  {
   "cell_type": "code",
   "execution_count": 6,
   "metadata": {
    "collapsed": false
   },
   "outputs": [],
   "source": [
    "def sample_with_gumbel_noise(logits, size):\n",
    "    noise = sample_gumbel((size, len(logits)))\n",
    "    return np.argmax(logits + noise, axis=1)"
   ]
  },
  {
   "cell_type": "markdown",
   "metadata": {},
   "source": [
    "可以[证明](https://hips.seas.harvard.edu/blog/2013/04/06/the-gumbel-max-trick-for-discrete-distributions/)，gumbel-max 方法的采样效果等效于基于 softmax 的方式。下面的实验直观地展示两种方法的采样效果。\n"
   ]
  },
  {
   "cell_type": "code",
   "execution_count": 7,
   "metadata": {
    "collapsed": false
   },
   "outputs": [
    {
     "data": {
      "text/plain": [
       "(array([  4358.,  22962.,   7143.,   6761.,   3638.,   5848.,   5946.,\n",
       "         15969.,   9951.,  17424.]),\n",
       " array([ 0. ,  0.9,  1.8,  2.7,  3.6,  4.5,  5.4,  6.3,  7.2,  8.1,  9. ]),\n",
       " <a list of 10 Patch objects>)"
      ]
     },
     "execution_count": 7,
     "metadata": {},
     "output_type": "execute_result"
    },
    {
     "data": {
      "image/png": "[encoded data removed]",
      "text/plain": [
       "<matplotlib.figure.Figure at 0x7f0efc35e1d0>"
      ]
     },
     "metadata": {},
     "output_type": "display_data"
    }
   ],
   "source": [
    "np.random.seed(1111)\n",
    "logits = (np.random.random(10) - 0.5) * 2  # (-1, 1)\n",
    "    \n",
    "pop = 100000\n",
    "softmax_samples = sample_with_softmax(logits, pop)\n",
    "gumbel_samples = sample_with_gumbel_noise(logits, pop)\n",
    "        \n",
    "plt.subplot(1, 2, 1)\n",
    "plt.hist(softmax_samples)\n",
    "    \n",
    "plt.subplot(1, 2, 2)\n",
    "plt.hist(gumbel_samples)"
   ]
  },
  {
   "cell_type": "markdown",
   "metadata": {},
   "source": [
    "由于 Gumbel 随机数可以预先计算好，采样过程也不需要计算 softmax，因此，某些情况下，gumbel-max 方法相比于 softmax，在采样速度上会有优势。"
   ]
  },
  {
   "cell_type": "markdown",
   "metadata": {},
   "source": [
    "# 3. Gumbel-Softmax\n",
    "\n",
    "如果仅仅是提供一种常规 softmax 采样的替代方案， gumbel 分布似乎应用价值并不大。幸运的是，我们可以利用 gumbel 实现多项分布采样的 reparameterization（再参数化）。\n",
    "\n",
    "在介绍 [VAE](http://blog.csdn.net/jackytintin/article/details/53641885) 的时候讨论过，为了实现端到端的训练，VAE 采用的一个再参数化的技巧对高斯分布进行采样:"
   ]
  },
  {
   "cell_type": "code",
   "execution_count": 8,
   "metadata": {
    "collapsed": false
   },
   "outputs": [],
   "source": [
    "def guassian_sample(shape):\n",
    "    epsilon = K.random_normal(shape, mean=0.,std=1) # 标准高斯分布\n",
    "    z = z_mean + exp(z_log_var / 2) * epsilon"
   ]
  },
  {
   "cell_type": "markdown",
   "metadata": {},
   "source": [
    "在介绍的 VAE 里，假设隐变量（latent variables）服从标准正态分布。下面将会看到，利用 gumbel-softmax 技巧，我们可以将隐变量建模为服从离散的多项分布。\n",
    "\n",
    "在上面的示例中，sample_with_softmax 使用了 choise 操作，而这个操作是不可导的。同样，观察 sample_with_gumbel_noise, armmax 操作同样不可导。然而，argmax 有一个 soft 版本，即 **softmax**。\n",
    "\n",
    "我们首先扩展上面定义的 softmax 函数，添加一个 temperature 参数。"
   ]
  },
  {
   "cell_type": "code",
   "execution_count": 9,
   "metadata": {
    "collapsed": true
   },
   "outputs": [],
   "source": [
    "def generalized_softmax(logits, temperature=1):\n",
    "    logits /= temperature\n",
    "    return softmax(logits)"
   ]
  },
  {
   "cell_type": "markdown",
   "metadata": {},
   "source": [
    "temperature 是在大于零的参数，它控制着 softmax 的 soft 程度。温度越高，生成的分布越平滑；温度越低，生成的分布越接近离散的 one-hot 分布。下面示例对比了不同温度下，softmax 的结果。"
   ]
  },
  {
   "cell_type": "code",
   "execution_count": 10,
   "metadata": {
    "collapsed": false
   },
   "outputs": [
    {
     "data": {
      "text/plain": [
       "<Container object of 10 artists>"
      ]
     },
     "execution_count": 10,
     "metadata": {},
     "output_type": "execute_result"
    },
    {
     "data": {
      "image/png": "[encoded data removed]",
      "text/plain": [
       "<matplotlib.figure.Figure at 0x7f0ecb2b2b10>"
      ]
     },
     "metadata": {},
     "output_type": "display_data"
    }
   ],
   "source": [
    "np.random.seed(1111)\n",
    "n = 10\n",
    "logits = (np.random.random(n) - 0.5) * 2  # (-1, 1)\n",
    "x = range(n)\n",
    "\n",
    "plt.subplot(1, 3, 1)\n",
    "t = .1\n",
    "plt.bar(x, generalized_softmax(logits, t))\n",
    "\n",
    "plt.subplot(1, 3, 2)\n",
    "t = 5\n",
    "plt.bar(x, generalized_softmax(logits, t))\n",
    "\n",
    "plt.subplot(1, 3, 3)\n",
    "t = 50\n",
    "plt.bar(x, generalized_softmax(logits, t))\n"
   ]
  },
  {
   "cell_type": "markdown",
   "metadata": {},
   "source": [
    "将 gumbel-max 中的 argmax 操作，替换为 softmax，便实现了对于原来不可导的采样操作的软化版的近似。训练中，可以通过逐渐降低温度，以逐步逼近真实的离散分布。利用 gumbel-softmax，VAE 的隐变量可以用多项分布进行建模，一个示例见 [repo](https://github.com/DingKe/ml-tutorial/tree/master/gumbel)。这里，仅展示一个 toy 示例（代码[来自](http://amid.fish/humble-gumbel)）。"
   ]
  },
  {
   "cell_type": "code",
   "execution_count": 11,
   "metadata": {
    "collapsed": false
   },
   "outputs": [
    {
     "name": "stdout",
     "output_type": "stream",
     "text": [
      "Logits: \n",
      "0.02 0.37 1.00 0.37 0.02\n",
      "Distribution mean: 2.00\n",
      "Distribution mean: 2.13\n",
      "Distribution mean: 2.23\n",
      "Distribution mean: 2.60\n",
      "Distribution mean: 2.75\n",
      "Distribution mean: 3.23\n"
     ]
    }
   ],
   "source": [
    "import tensorflow as tf\n",
    "sess = tf.Session()\n",
    "\n",
    "def differentiable_sample(logits, temperature=1):\n",
    "    noise = tf.random_uniform(tf.shape(logits), seed=11)\n",
    "    logits_with_noise = logits - tf.log(-tf.log(noise))\n",
    "    return tf.nn.softmax(logits_with_noise / temperature)\n",
    "\n",
    "mean = tf.Variable(2.)\n",
    "idxs = tf.Variable([0., 1., 2., 3., 4.])\n",
    "# An unnormalised approximately-normal distribution\n",
    "logits = tf.exp(-(idxs - mean) ** 2)\n",
    "sess.run(tf.global_variables_initializer())\n",
    "\n",
    "def print_logit_vals():\n",
    "    logit_vals = sess.run(logits)\n",
    "    print(\" \".join([\"{:.2f}\"] * len(logit_vals)).format(*logit_vals))\n",
    "    \n",
    "print(\"Logits: \")\n",
    "print_logit_vals()\n",
    "\n",
    "sample = differentiable_sample(logits)\n",
    "sample_weights = tf.Variable([1., 2., 3., 4., 5.], trainable=False)\n",
    "result = tf.reduce_sum(sample * sample_weights)\n",
    "\n",
    "sess.run(tf.global_variables_initializer())\n",
    "train_op = tf.train.GradientDescentOptimizer(learning_rate=1).minimize(-result)\n",
    "\n",
    "print(\"Distribution mean: {:.2f}\".format(sess.run(mean)))\n",
    "for i in range(5):\n",
    "    sess.run(train_op)\n",
    "    print(\"Distribution mean: {:.2f}\".format(sess.run(mean)))"
   ]
  },
  {
   "cell_type": "markdown",
   "metadata": {},
   "source": [
    "可以看到，利用 gumbel-softmax 训练参数向着预期的方向改变。"
   ]
  },
  {
   "cell_type": "code",
   "execution_count": 12,
   "metadata": {
    "collapsed": false
   },
   "outputs": [
    {
     "name": "stdout",
     "output_type": "stream",
     "text": [
      "Logits: \n",
      "0.02 0.37 1.00 0.37 0.02\n",
      "Distribution mean: 2.00\n",
      "Distribution mean: 2.32\n",
      "Distribution mean: 2.65\n",
      "Distribution mean: 2.87\n",
      "Distribution mean: 3.10\n",
      "Distribution mean: 3.36\n"
     ]
    }
   ],
   "source": [
    "import tensorflow as tf\n",
    "sess = tf.Session()\n",
    "\n",
    "mean = tf.Variable(2.)\n",
    "idxs = tf.Variable([0., 1., 2., 3., 4.])\n",
    "# An unnormalised approximately-normal distribution\n",
    "logits = tf.exp(-(idxs - mean) ** 2)\n",
    "sess.run(tf.global_variables_initializer())\n",
    "\n",
    "def print_logit_vals():\n",
    "    logit_vals = sess.run(logits)\n",
    "    print(\" \".join([\"{:.2f}\"] * len(logit_vals)).format(*logit_vals))\n",
    "    \n",
    "print(\"Logits: \")\n",
    "print_logit_vals()\n",
    "\n",
    "sample = tf.nn.softmax(logits)\n",
    "sample_weights = tf.Variable([1., 2., 3., 4., 5.], trainable=False)\n",
    "result = tf.reduce_sum(sample * sample_weights)\n",
    "\n",
    "sess.run(tf.global_variables_initializer())\n",
    "train_op = tf.train.GradientDescentOptimizer(learning_rate=1).minimize(-result)\n",
    "\n",
    "print(\"Distribution mean: {:.2f}\".format(sess.run(mean)))\n",
    "for i in range(5):\n",
    "    sess.run(train_op)\n",
    "    print(\"Distribution mean: {:.2f}\".format(sess.run(mean)))"
   ]
  },
  {
   "cell_type": "markdown",
   "metadata": {},
   "source": [
    "# 讨论\n",
    "乍看起来，gumbel-softmax 的用处令人费解。比如上面的代码示例，直接使用 softmax，也可以达到类似的参数训练效果。但两者有着根本的区别。\n",
    "原理上，常规的 softmax 直接建模了一个概率分布（多项分布），基于交叉熵的训练准则使分布尽可能靠近目标分布；而 gumbel-softmax 则是对多项分布采样的一个近似。使用上，常规的有监督学习任务（分类器训练）中，直接学习输出的概率分布是自然的选择；而对于涉及采样的学习任务（VAE 隐变量采样、强化学习中对actions 集合进行采样以确定下一步的操作），gumbel-softmax 提供了一种再参数化的方法，使得模型可以以端到端的方式进行训练。"
   ]
  },
  {
   "cell_type": "markdown",
   "metadata": {},
   "source": [
    "# References\n",
    "1. http://amid.fish/humble-gumbel\n",
    "2. [proof of Gumbel based sampling](https://hips.seas.harvard.edu/blog/2013/04/06/the-gumbel-max-trick-for-discrete-distributions/)\n",
    "3. https://blog.evjang.com/2016/11/tutorial-categorical-variational.html\n",
    "4. Jang et al. [CATEGORICAL REPARAMETERIZATION WITH GUMBEL-SOFTMAX](https://arxiv.org/abs/1611.01144).\n"
   ]
  }
 ],
 "metadata": {
  "anaconda-cloud": {},
  "kernelspec": {
   "display_name": "Python [Root]",
   "language": "python",
   "name": "Python [Root]"
  },
  "language_info": {
   "codemirror_mode": {
    "name": "ipython",
    "version": 2
   },
   "file_extension": ".py",
   "mimetype": "text/x-python",
   "name": "python",
   "nbconvert_exporter": "python",
   "pygments_lexer": "ipython2",
   "version": "2.7.12"
  }
 },
 "nbformat": 4,
 "nbformat_minor": 0
}
