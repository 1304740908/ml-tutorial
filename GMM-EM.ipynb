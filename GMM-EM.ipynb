{
 "cells": [
  {
   "cell_type": "markdown",
   "metadata": {},
   "source": [
    "首先，导入相关的模块。"
   ]
  },
  {
   "cell_type": "code",
   "execution_count": 7,
   "metadata": {
    "collapsed": true
   },
   "outputs": [],
   "source": [
    "from __future__ import print_function\n",
    "import numpy as np\n",
    "import matplotlib\n",
    "import matplotlib.pyplot as plt\n",
    "%matplotlib inline  "
   ]
  },
  {
   "cell_type": "markdown",
   "metadata": {},
   "source": [
    "从正态分布，随机生成两组一维数据，正态分布的期望和方差如代码所示："
   ]
  },
  {
   "cell_type": "code",
   "execution_count": 8,
   "metadata": {
    "collapsed": false
   },
   "outputs": [
    {
     "name": "stdout",
     "output_type": "stream",
     "text": [
      "cluster 1 with mean 1 std 1\n",
      "cluster 2 with mean 3 std 1\n"
     ]
    }
   ],
   "source": [
    "np.random.seed(1111)\n",
    "\n",
    "mu1, mu2 = 1, 3\n",
    "sigma1, sigma2 = 1, 1\n",
    "\n",
    "data1 = np.random.randn(10) * sigma1 + mu1\n",
    "data2 = np.random.randn(10) * sigma2 + mu2\n",
    "\n",
    "print('cluster 1 with mean {} std {}'.format(mu1, sigma1))\n",
    "print('cluster 2 with mean {} std {}'.format(mu2, sigma2))"
   ]
  },
  {
   "cell_type": "markdown",
   "metadata": {},
   "source": [
    "生成的数据图示如下："
   ]
  },
  {
   "cell_type": "code",
   "execution_count": 9,
   "metadata": {
    "collapsed": false
   },
   "outputs": [
    {
     "data": {
      "text/plain": [
       "<matplotlib.collections.PathCollection at 0x7fc3f480d890>"
      ]
     },
     "execution_count": 9,
     "metadata": {},
     "output_type": "execute_result"
    },
    {
     "data": {
      "image/png": "[encoded data removed]",
      "text/plain": [
       "<matplotlib.figure.Figure at 0x7fc3f4605810>"
      ]
     },
     "metadata": {},
     "output_type": "display_data"
    }
   ],
   "source": [
    "def plot(y, **kwargs):\n",
    "    plt.scatter(y, np.zeros_like(y), **kwargs)\n",
    "\n",
    "plot(data1, c='r')\n",
    "plt.scatter(mu1, 0, c='r', s=100, marker='^')\n",
    "plot(data2, c='g')\n",
    "plt.scatter(mu2, 0, c='g', s=100, marker='^')\n"
   ]
  },
  {
   "cell_type": "markdown",
   "metadata": {},
   "source": [
    "许多场景下，我们提前不知道数据是如何生成的，即数据没有标注："
   ]
  },
  {
   "cell_type": "code",
   "execution_count": 10,
   "metadata": {
    "collapsed": false
   },
   "outputs": [
    {
     "data": {
      "image/png": "[encoded data removed]",
      "text/plain": [
       "<matplotlib.figure.Figure at 0x7fc3f47fa0d0>"
      ]
     },
     "metadata": {},
     "output_type": "display_data"
    }
   ],
   "source": [
    "data = np.concatenate([data1, data2])\n",
    "plot(data)"
   ]
  },
  {
   "cell_type": "markdown",
   "metadata": {},
   "source": [
    "K-Means 聚类是一个迭代算法。给定目标聚类数目 K,算法流程如下：\n",
    "1. 初始化 K 个中心点。\n",
    "2. 对每个中心点 $c_i$，计算各个数据点 $x_j$ 到此中心点的距离 $dist_{ij}$（e.g. 欧式距离）。\n",
    "3. 对每个数据点，将其归为距离最近的中心。\n",
    "4. 对每个中心点 $c_i$，利用其下的数据点，重新估计值 $c_i = \\sum_{x_j \\in c_i} x_j$。\n",
    "5. 重复 2 ~ 4，至于满足终止条件。"
   ]
  },
  {
   "cell_type": "code",
   "execution_count": 11,
   "metadata": {
    "collapsed": false
   },
   "outputs": [
    {
     "data": {
      "text/plain": [
       "<matplotlib.collections.PathCollection at 0x7fc3f4226f50>"
      ]
     },
     "execution_count": 11,
     "metadata": {},
     "output_type": "execute_result"
    },
    {
     "data": {
      "image/png": "[encoded data removed]",
      "text/plain": [
       "<matplotlib.figure.Figure at 0x7fc3f4312690>"
      ]
     },
     "metadata": {},
     "output_type": "display_data"
    }
   ],
   "source": [
    "def kmeans(x, nb_class=2, nb_iter=10):\n",
    "    # initi centers, step 1\n",
    "    min_val, max_val = min(x), max(x)\n",
    "    means = np.linspace(min_val, max_val, nb_class + 2)[1:-1]\n",
    "    \n",
    "    dist = np.zeros([nb_class, len(x)])\n",
    "    for i in range(nb_iter):\n",
    "        # calculate distance, step 2\n",
    "        for j in range(nb_class):\n",
    "            for k, point in enumerate(x):\n",
    "                dist[j][k] = (means[j] - point) ** 2 \n",
    "                \n",
    "        # update means, step 3 & 4\n",
    "        min_idx = np.argmin(dist, 0)\n",
    "        for j in range(nb_class):\n",
    "            ele = [x[k] for k, idx in enumerate(min_idx) if idx == j]\n",
    "            means[j] = sum(ele) / len(ele)\n",
    "            \n",
    "    clusters = []\n",
    "    min_idx = np.argmin(dist, 0)\n",
    "    for i in range(nb_class):\n",
    "        ele = [x[k] for k, idx in enumerate(min_idx) if idx == i]\n",
    "        clusters.append(np.asarray(ele))\n",
    "    \n",
    "    return means, clusters\n",
    "\n",
    "# original clusters\n",
    "plt.subplot(2, 1, 1)\n",
    "plot(data1, c='r')\n",
    "plt.scatter(mu1, 0, c='r', s=100, marker='^')\n",
    "\n",
    "plot(data2, c='g')\n",
    "plt.scatter(mu2, 0, c='g', s=100, marker='^')\n",
    "\n",
    "# k-mean clusters\n",
    "centers, clusters = kmeans(data)\n",
    "plt.subplot(2, 1, 2)\n",
    "plot(clusters[0], c='r')\n",
    "plt.scatter(centers[0], 0, c='r', s=100, marker='^')\n",
    "\n",
    "plot(clusters[1], c='g')\n",
    "plt.scatter(centers[1], 0, c='g', s=100, marker='^')"
   ]
  },
  {
   "cell_type": "markdown",
   "metadata": {
    "collapsed": true
   },
   "source": [
    "K-Means 采用的是硬件判决，即距离哪个中心点的距离最近，分配给谁。在上面的示例，两类重合的点，被错误归为了另一类。缺乏置信度。下面介绍本文的主题——高斯混合模型（GMM）。GMM 采用的是软判决的方式来进行聚类。\n",
    "\n",
    "GMM 假设数据服从如下公布：\n",
    "$$\n",
    "p(x) = \\sum_i^n \\pi_i \\cdot g_i(x)\n",
    "$$\n",
    "\n",
    "其中，$g_i = N(\\mu_i, \\sigma_i)$，且 $\\sum_i^n \\pi_i = 1$。\n",
    "\n",
    "在我们例子中，$\\mu_1 = 1$， $\\mu_2 = 3$ $\\sigma_1 = \\sigma_2 = 1$ $\\pi_1 = \\pi_2 = 0.5$。当然，实际中，我们是往往不知道其真实分布，但 GMM 有很强的建模能力，能够对许多实际问题进行良好的近似建模。\n",
    "\n",
    "GMM 一般用 EM（期望-最大化算法）来优化。给定目标聚类数目 K,算法流程如下：\n",
    "\n",
    "1. 初始化 K 个高斯的参数 $\\mu_i$, $\\sigma_i$, $\\pi_i$, $i=1,\\dots, K$。\n",
    "\n",
    "2. （期望）：对每个高斯 $g_i$，对每个数据点 $x_i$，计算 $\\gamma_{ij} = \\frac{\\pi_i \\cdot g_i(x_j)}{\\sum_{k-1}^K \\pi_k \\cdot g_k(x_j) }$。\n",
    "\n",
    "3. （最大化）：对每个高斯 $g_i$，重新估计其参数 $\\hat{\\mu}_i = \\frac{\\sum_{j=1}^N \\gamma_{ij} \\cdot x_j}{ \\sum_{j=1}^N \\gamma_{ij} }$, $\\hat{\\sigma}_i = \\frac{\\sum_{j=1}^N \\gamma_{ij} \\cdot (x_j - \\hat{\\mu}_i)^2}{ \\sum_{j=1}^N \\gamma_{ij} }$, $ \\hat{\\pi}_i = \\frac{\\sum_{j=1}^N \\gamma_{ij}}{N} = \\frac{\\sum_{j=1}^N \\gamma_{ij}}{\\sum_{j=1}^N \\sum_{i=1}^K  \\gamma_{ij}} $。\n",
    "4. 重复 2 ~ 3，至于满足终止条件。\n",
    "\n",
    "GMM 的 EM 训练中，不同于 kmeans 步骤 2、3 的硬件分配，步骤 2 计算每个数据点的“归属度”，软性的更新参数（步骤3）。"
   ]
  },
  {
   "cell_type": "code",
   "execution_count": 13,
   "metadata": {
    "collapsed": false
   },
   "outputs": [
    {
     "name": "stdout",
     "output_type": "stream",
     "text": [
      "Iter 0, log likelihood -36.0383490563\n",
      "Iter 1, log likelihood -35.9020913653\n",
      "Iter 2, log likelihood -35.8840525514\n",
      "Estimated Gaussian 1 - mu: 0.57, sigma: 0.83, pi: 0.49\n",
      "Estimated Gaussian 2 - mu: 3.23, sigma: 0.86, pi: 0.51\n"
     ]
    },
    {
     "data": {
      "text/plain": [
       "[<matplotlib.lines.Line2D at 0x7fc3f3d19a90>]"
      ]
     },
     "execution_count": 13,
     "metadata": {},
     "output_type": "execute_result"
    },
    {
     "data": {
      "image/png": "[encoded data removed]",
      "text/plain": [
       "<matplotlib.figure.Figure at 0x7fc3f3f026d0>"
      ]
     },
     "metadata": {},
     "output_type": "display_data"
    }
   ],
   "source": [
    "def norm_dist(x, mu, sigma):\n",
    "    return np.exp(-(x - mu) ** 2 / 2 / sigma ** 2) / ((2 * np.pi) ** 0.5 * sigma)\n",
    "\n",
    "\n",
    "def gmm(x, nb_class=2, max_iter=100, threshold=1):\n",
    "    min_val, max_val = min(x), max(x)\n",
    "    mus = np.linspace(min_val, max_val, nb_class + 2)[1:-1]\n",
    "    sigmas = np.ones(nb_class) * .1\n",
    "    pis = np.ones(nb_class) / nb_class  # flat prior\n",
    "    \n",
    "    gammas = np.zeros([nb_class, len(x)])\n",
    "    cur_lld = -np.float('inf')\n",
    "    for i in range(max_iter):\n",
    "        \n",
    "        # calculate probability， step 2\n",
    "        for j in range(nb_class):\n",
    "            for k, point in enumerate(x):\n",
    "                gammas[j][k] =  norm_dist(point, mus[j], sigmas[j]) * pis[j]\n",
    "        gammas = gammas / np.sum(gammas, 0)\n",
    "        \n",
    "        # update estimation, step 3\n",
    "        for j in range(nb_class):\n",
    "            total, total_squared, norm_factor = 0, 0, 0\n",
    "            \n",
    "            # mu\n",
    "            for k in range(len(x)):\n",
    "                total += x[k] * gammas[j][k]\n",
    "                norm_factor += gammas[j][k]\n",
    "            mus[j] = total / norm_factor\n",
    "            \n",
    "            # sigma\n",
    "            for k in range(len(x)):\n",
    "                total_squared += (x[k] - mus[j]) ** 2 * gammas[j][k]\n",
    "            sigmas[j] = (total_squared / norm_factor) ** 0.5\n",
    "            \n",
    "            # pi\n",
    "            pis[j] = norm_factor / len(x)\n",
    "            \n",
    "            \n",
    "        # likelihood\n",
    "        lld = 0\n",
    "        for e in x:\n",
    "            ld = 0\n",
    "            for j in range(nb_class):\n",
    "                ld += norm_dist(e, mus[j], sigmas[j]) * pis[j]\n",
    "            lld += np.log(ld)\n",
    "        cur_lld, last_lld = lld, cur_lld\n",
    "    \n",
    "        print(\"Iter {}, log likelihood {}\".format(i, lld)) \n",
    "        if cur_lld - last_lld <= threshold:\n",
    "            break\n",
    "            \n",
    "    return mus, sigmas, pis\n",
    "\n",
    "# original clusters\n",
    "plt.subplot(3, 1, 1)\n",
    "plot(data1, c='r')\n",
    "plt.scatter(mu1, 0, c='r', s=100, marker='^')\n",
    "\n",
    "plot(data2, c='g')\n",
    "plt.scatter(mu2, 0, c='g', s=100, marker='^')\n",
    "\n",
    "\n",
    "x1 = np.linspace(-0.5, 3, 100)\n",
    "plt.plot(x1, norm_dist(x1, mu1, sigma1), c='r')\n",
    "x2 = np.linspace(1, 4, 100)\n",
    "plt.plot(x2, norm_dist(x2, mu2, sigma2), c='g')\n",
    "\n",
    "# k-mean clusters\n",
    "centers, clusters = kmeans(data)\n",
    "plt.subplot(3, 1, 2)\n",
    "plot(clusters[0], c='r')\n",
    "plt.scatter(centers[0], 0, c='r', s=100, marker='^')\n",
    "\n",
    "plot(clusters[1], c='g')\n",
    "plt.scatter(centers[1], 0, c='g', s=100, marker='^')\n",
    "\n",
    "\n",
    "# gmm\n",
    "mus, sigmas, pis = gmm(data, threshold=0.05)\n",
    "print('Estimated Gaussian 1 - mu: {:.2f}, sigma: {:.2f}, pi: {:.2f}'.format(mus[0], sigmas[0], pis[0]))\n",
    "print('Estimated Gaussian 2 - mu: {:.2f}, sigma: {:.2f}, pi: {:.2f}'.format(mus[1], sigmas[1], pis[1]))\n",
    "\n",
    "\n",
    "plt.subplot(3, 1, 3)\n",
    "plot(data, c='b')\n",
    "plt.scatter(mus[0], 0, c='r', s=100, marker='^')\n",
    "plt.scatter(mus[1], 0, c='g', s=100, marker='^')\n",
    "\n",
    "x1 = np.linspace(-0.5, 3, 100)\n",
    "plt.plot(x1, norm_dist(x1, mus[0], sigmas[0]), c='r')\n",
    "x2 = np.linspace(1, 4, 100)\n",
    "plt.plot(x2, norm_dist(x2, mus[1], sigmas[1]), c='g')\n",
    "    "
   ]
  },
  {
   "cell_type": "code",
   "execution_count": null,
   "metadata": {
    "collapsed": true
   },
   "outputs": [],
   "source": []
  }
 ],
 "metadata": {
  "anaconda-cloud": {},
  "kernelspec": {
   "display_name": "Python [Root]",
   "language": "python",
   "name": "Python [Root]"
  },
  "language_info": {
   "codemirror_mode": {
    "name": "ipython",
    "version": 2
   },
   "file_extension": ".py",
   "mimetype": "text/x-python",
   "name": "python",
   "nbconvert_exporter": "python",
   "pygments_lexer": "ipython2",
   "version": "2.7.12"
  }
 },
 "nbformat": 4,
 "nbformat_minor": 0
}
